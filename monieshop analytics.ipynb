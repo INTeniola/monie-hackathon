{
 "cells": [
  {
   "cell_type": "code",
   "execution_count": 8,
   "id": "f1eb7e49-261f-4b41-93ec-d3618d82f92a",
   "metadata": {},
   "outputs": [],
   "source": [
    "import pandas as pd\n",
    "import os\n",
    "from datetime import datetime\n",
    "import re\n",
    "from collections import defaultdict, Counter"
   ]
  },
  {
   "cell_type": "code",
   "execution_count": 9,
   "id": "119ce09a-f70c-4032-bd70-c617b73c2a24",
   "metadata": {},
   "outputs": [],
   "source": [
    "def parseTransactions(line):\n",
    "    parts = line.strip().split(',')\n",
    "    staff_id = int(parts[0])\n",
    "    timestamp = parts[1]   \n",
    "    #try-except block to handle value error\n",
    "    try:\n",
    "        transaction_time = datetime.strptime(timestamp, '%Y-%m-%dT%H:%M:%S')\n",
    "    except ValueError:\n",
    "        transaction_time = datetime.strptime(timestamp, '%Y-%m-%dT%H:%M')\n",
    "    \n",
    "    products = re.findall(r'(\\d+):(\\d+)', parts[2])\n",
    "    sale_amount = float(parts[3])\n",
    "    return staff_id, transaction_time, products, sale_amount\n",
    "#function to help with processing files and calculating metrics\n",
    "def process_transactions(folder_path):\n",
    "    daily_sales_volume = defaultdict(int)\n",
    "    daily_sales_value = defaultdict(float)\n",
    "    product_sales = Counter()\n",
    "    monthly_sales_staff = defaultdict(lambda: defaultdict(float))\n",
    "    hourly_transaction_volume = defaultdict(list)\n",
    "\n",
    "    for filename in os.listdir(folder_path):\n",
    "        if filename.endswith('.txt'):\n",
    "            file_path = os.path.join(folder_path, filename)\n",
    "            with open(file_path, 'r') as file:\n",
    "                for line in file:\n",
    "                    staff_id, transaction_time, products, sale_amount = parseTransactions(line)\n",
    "                    \n",
    "                    date = transaction_time.date()                    #aggregation for daily metrics\n",
    "                    daily_sales_volume[date] += sum(int(qty) for _, qty in products)\n",
    "                    daily_sales_value[date] += sale_amount\n",
    "                    \n",
    "                    for product_id, qty in products:                    #aggregation for products\n",
    "                        product_sales[product_id] += int(qty)\n",
    "                    \n",
    "                    month = transaction_time.strftime('%Y-%m')      #aggregation for monthly metrics\n",
    "                    monthly_sales_staff[month][staff_id] += sale_amount\n",
    "                                       \n",
    "                    hour = transaction_time.hour           #aggregation for hourly metrics\n",
    "                    hourly_transaction_volume[hour].append(sum(int(qty) for _, qty in products))\n",
    "    \n",
    "    top_sales_volume_day = max(daily_sales_volume.items(), key=lambda x: x[1])    #metrics calculation\n",
    "    top_sales_value_day = max(daily_sales_value.items(), key=lambda x: x[1])\n",
    "    most_sold_product = product_sales.most_common(1)[0]\n",
    "    top_sales_staff_per_month = {month: max(staff_sales.items(), key=lambda x: x[1]) for month, staff_sales in monthly_sales_staff.items()}\n",
    "    top_hour_by_avg_volume = max(hourly_transaction_volume.items(), key=lambda x: sum(x[1]) / len(x[1]))\n",
    "    \n",
    "    return {\n",
    "        'top_sales_volume_day': {\n",
    "            'date': top_sales_volume_day[0].isoformat(),\n",
    "            'total_volume': top_sales_volume_day[1]\n",
    "        },\n",
    "        'top_sales_value_day': {\n",
    "            'date': top_sales_value_day[0].isoformat(),\n",
    "            'total_value': top_sales_value_day[1]\n",
    "        },\n",
    "        'most_sold_product': {\n",
    "            'product_id': most_sold_product[0],\n",
    "            'total_quantity': most_sold_product[1]\n",
    "        },\n",
    "        'top_sales_staff_per_month': {\n",
    "            month: {\n",
    "                'staff_id': staff[0],\n",
    "                'total_sales': staff[1]\n",
    "            } for month, staff in top_sales_staff_per_month.items()\n",
    "        },\n",
    "        'highest_hour_by_avg_volume': {\n",
    "            'hour': top_hour_by_avg_volume[0],\n",
    "            'average_volume': sum(top_hour_by_avg_volume[1]) / len(top_hour_by_avg_volume[1])\n",
    "        }\n",
    "    }"
   ]
  },
  {
   "cell_type": "code",
   "execution_count": 10,
   "id": "33ebb487-d9de-4b5c-acd2-ac1be1425378",
   "metadata": {},
   "outputs": [
    {
     "name": "stdout",
     "output_type": "stream",
     "text": [
      "{'top_sales_volume_day': {'date': '2025-11-01', 'total_volume': 50972}, 'top_sales_value_day': {'date': '2025-11-01', 'total_value': 26105658.268}, 'most_sold_product': {'product_id': '469117', 'total_quantity': 9924}, 'top_sales_staff_per_month': {'2025-01': {'staff_id': 9, 'total_sales': 49261442.96800001}, '2025-02': {'staff_id': 9, 'total_sales': 44725439.46299994}, '2025-03': {'staff_id': 8, 'total_sales': 53751438.521999955}, '2025-04': {'staff_id': 8, 'total_sales': 47915445.77599999}, '2025-06': {'staff_id': 9, 'total_sales': 49567064.772000104}, '2025-07': {'staff_id': 3, 'total_sales': 56446945.54600001}, '2025-08': {'staff_id': 7, 'total_sales': 48037902.4629999}, '2025-09': {'staff_id': 8, 'total_sales': 45703479.36900009}, '2025-10': {'staff_id': 9, 'total_sales': 51121489.026}, '2025-11': {'staff_id': 5, 'total_sales': 49244695.534000084}, '2025-12': {'staff_id': 3, 'total_sales': 52325101.67700001}}, 'highest_hour_by_avg_volume': {'hour': 11, 'average_volume': 50.00185973670044}}\n"
     ]
    }
   ],
   "source": [
    "# Example usage\n",
    "folder_path = r'C:\\Users\\HP\\Documents\\monie-hackathon\\data'\n",
    "results = process_transactions(folder_path)\n",
    "print(results)"
   ]
  },
  {
   "cell_type": "code",
   "execution_count": null,
   "id": "b1f7e959-b7b2-4fb0-9393-30e238b6d90b",
   "metadata": {},
   "outputs": [],
   "source": []
  },
  {
   "cell_type": "code",
   "execution_count": null,
   "id": "d6652a73-1a05-4c06-87b0-aff940078e77",
   "metadata": {},
   "outputs": [],
   "source": []
  },
  {
   "cell_type": "code",
   "execution_count": null,
   "id": "953fd754-9dc1-477b-92e8-fdd03323997b",
   "metadata": {},
   "outputs": [],
   "source": []
  },
  {
   "cell_type": "code",
   "execution_count": null,
   "id": "d33d6381-3b4a-425e-a6eb-2652de3710de",
   "metadata": {},
   "outputs": [],
   "source": []
  },
  {
   "cell_type": "code",
   "execution_count": null,
   "id": "c2ae537c-85a7-4651-9262-ecbc8a0788fb",
   "metadata": {},
   "outputs": [],
   "source": []
  }
 ],
 "metadata": {
  "kernelspec": {
   "display_name": "Python 3 (ipykernel)",
   "language": "python",
   "name": "python3"
  },
  "language_info": {
   "codemirror_mode": {
    "name": "ipython",
    "version": 3
   },
   "file_extension": ".py",
   "mimetype": "text/x-python",
   "name": "python",
   "nbconvert_exporter": "python",
   "pygments_lexer": "ipython3",
   "version": "3.12.7"
  }
 },
 "nbformat": 4,
 "nbformat_minor": 5
}
